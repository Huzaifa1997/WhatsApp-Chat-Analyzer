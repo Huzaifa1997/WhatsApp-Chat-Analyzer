{
 "cells": [
  {
   "metadata": {},
   "cell_type": "markdown",
   "source": "#For logic building and data cleaning(functions used in helper then)",
   "id": "ffedcf3554969983"
  },
  {
   "cell_type": "code",
   "id": "initial_id",
   "metadata": {
    "collapsed": true,
    "ExecuteTime": {
     "end_time": "2025-07-18T19:46:51.055615Z",
     "start_time": "2025-07-18T19:46:51.050617Z"
    }
   },
   "source": [
    "import re\n",
    "import pandas as pd"
   ],
   "outputs": [],
   "execution_count": 55
  },
  {
   "metadata": {
    "ExecuteTime": {
     "end_time": "2025-07-19T12:03:58.205438Z",
     "start_time": "2025-07-19T12:03:58.183776Z"
    }
   },
   "cell_type": "code",
   "source": "f= open('Upload your Chat Cvs file','r',encoding='utf-8')",
   "id": "6b11c1b4cfc0fa28",
   "outputs": [],
   "execution_count": 3
  },
  {
   "metadata": {
    "ExecuteTime": {
     "end_time": "2025-07-19T12:03:58.689610Z",
     "start_time": "2025-07-19T12:03:58.678590Z"
    }
   },
   "cell_type": "code",
   "source": "data=f.read()",
   "id": "171acad6d85137c",
   "outputs": [],
   "execution_count": 4
  },
  {
   "metadata": {},
   "cell_type": "code",
   "source": "print(data)",
   "id": "98e24f3f7c54b613",
   "outputs": [],
   "execution_count": null
  },
  {
   "metadata": {
    "ExecuteTime": {
     "end_time": "2025-07-19T12:03:59.317744Z",
     "start_time": "2025-07-19T12:03:59.308742Z"
    }
   },
   "cell_type": "code",
   "source": "data = data.replace('\\u202f', ' ').replace('\\xa0', ' ')\n",
   "id": "f58cd847a2dd2b26",
   "outputs": [],
   "execution_count": 6
  },
  {
   "metadata": {
    "ExecuteTime": {
     "end_time": "2025-07-19T21:53:24.938173Z",
     "start_time": "2025-07-19T12:03:59.602979Z"
    }
   },
   "cell_type": "code",
   "source": "pattern = r'\\d{1,2}/\\d{1,2}/\\d{2,4},\\s\\d{1,2}:\\d{2}[\\s\\u202f\\xa0]?[APap][Mm]\\s-\\s'\n",
   "id": "911bab82a1d24d4f",
   "outputs": [],
   "execution_count": 7
  },
  {
   "metadata": {},
   "cell_type": "code",
   "source": "messages = re.split(pattern,data)[1:]",
   "id": "d36aac96eda2b67b",
   "outputs": [],
   "execution_count": null
  },
  {
   "metadata": {},
   "cell_type": "code",
   "source": "messages",
   "id": "261952fda92ae57",
   "outputs": [],
   "execution_count": null
  },
  {
   "metadata": {},
   "cell_type": "code",
   "source": "dates= re.findall(pattern,data)",
   "id": "d44f11687fa50af9",
   "outputs": [],
   "execution_count": null
  },
  {
   "metadata": {},
   "cell_type": "code",
   "source": "dates\n",
   "id": "1f342d4dc3c66b45",
   "outputs": [],
   "execution_count": null
  },
  {
   "metadata": {},
   "cell_type": "code",
   "source": [
    "print(\"Before fixing:\")\n",
    "print(\"Messages:\", len(messages))\n",
    "print(\"Dates:\", len(dates))\n",
    "\n",
    "# Fix unequal length\n",
    "min_len = min(len(messages), len(dates))\n",
    "messages = messages[:min_len]\n",
    "dates = dates[:min_len]\n",
    "\n",
    "print(\"After fixing:\")\n",
    "print(\"Messages:\", len(messages))\n",
    "print(\"Dates:\", len(dates))\n",
    "\n",
    "# Now safely create DataFrame\n",
    "df = pd.DataFrame({'user_message': messages, 'message_date': dates})\n"
   ],
   "id": "fc51be653e93176b",
   "outputs": [],
   "execution_count": null
  },
  {
   "metadata": {},
   "cell_type": "code",
   "source": [
    "# After creating the DataFrame\n",
    "df = pd.DataFrame({'user_message': messages, 'message_date': dates})\n",
    "df['message_date'] = pd.to_datetime(df['message_date'], format='%m/%d/%y, %I:%M %p - ')\n",
    "df.rename(columns={'message_date': 'date'}, inplace=True)\n",
    "\n",
    "# Extract user and message from user_message\n",
    "users = []\n",
    "messages_cleaned = []\n",
    "\n",
    "for message in df['user_message']:\n",
    "    entry = re.split(r'([\\w\\W]+?):\\s', message)\n",
    "    if len(entry) > 2:\n",
    "        users.append(entry[1])\n",
    "        messages_cleaned.append(\"\".join(entry[2:]))\n",
    "    else:\n",
    "        users.append('group_notification')\n",
    "        messages_cleaned.append(entry[0])\n",
    "\n",
    "df['user'] = users\n",
    "df['message'] = messages_cleaned\n",
    "\n",
    "# Now you can drop 'user_message'\n",
    "df.drop(columns=['user_message'], inplace=True)\n",
    "\n",
    "print(df.columns)\n",
    "# ['date', 'user', 'message']\n"
   ],
   "id": "9ab63892f2650b02",
   "outputs": [],
   "execution_count": null
  },
  {
   "metadata": {},
   "cell_type": "code",
   "source": "df.head()",
   "id": "f6d835dce06ded69",
   "outputs": [],
   "execution_count": null
  },
  {
   "metadata": {},
   "cell_type": "code",
   "source": "df['date'].dt.year",
   "id": "f8e49b17ebc883a",
   "outputs": [],
   "execution_count": null
  },
  {
   "metadata": {},
   "cell_type": "code",
   "source": "df['year']=df['date'].dt.year",
   "id": "19872080d1242f05",
   "outputs": [],
   "execution_count": null
  },
  {
   "metadata": {},
   "cell_type": "code",
   "source": "df.head()",
   "id": "2f484264e3b3d8f8",
   "outputs": [],
   "execution_count": null
  },
  {
   "metadata": {},
   "cell_type": "code",
   "source": "df['date'].dt.month_name()",
   "id": "244605377327ff72",
   "outputs": [],
   "execution_count": null
  },
  {
   "metadata": {},
   "cell_type": "code",
   "source": "df['month']=df['date'].dt.month_name()",
   "id": "1d6b674f308f7cf",
   "outputs": [],
   "execution_count": null
  },
  {
   "metadata": {},
   "cell_type": "code",
   "source": " df['date'].dt.day",
   "id": "b29a6130c1f7ed75",
   "outputs": [],
   "execution_count": null
  },
  {
   "metadata": {},
   "cell_type": "code",
   "source": "df['day']=df['date'].dt.day",
   "id": "e8e2aa29f8e98550",
   "outputs": [],
   "execution_count": null
  },
  {
   "metadata": {},
   "cell_type": "code",
   "source": " df['hour']=df['date'].dt.hour\n",
   "id": "1075fc55621785e1",
   "outputs": [],
   "execution_count": null
  },
  {
   "metadata": {},
   "cell_type": "code",
   "source": "df['minute']=df['date'].dt.minute",
   "id": "4b1eaeceb75de819",
   "outputs": [],
   "execution_count": null
  },
  {
   "metadata": {},
   "cell_type": "code",
   "source": "df.head()",
   "id": "f1560d60cd7bc39a",
   "outputs": [],
   "execution_count": null
  },
  {
   "metadata": {},
   "cell_type": "code",
   "source": [
    "words=[]\n",
    "for message in df['message']:\n",
    "    print(message)"
   ],
   "id": "dcbd80b907c9f014",
   "outputs": [],
   "execution_count": null
  },
  {
   "metadata": {
    "ExecuteTime": {
     "end_time": "2025-07-19T21:53:27.759749Z",
     "start_time": "2025-07-19T21:53:27.755745Z"
    }
   },
   "cell_type": "code",
   "source": "",
   "id": "943b1a57439a9b35",
   "outputs": [],
   "execution_count": null
  },
  {
   "metadata": {},
   "cell_type": "code",
   "outputs": [],
   "execution_count": null,
   "source": "",
   "id": "d423da2cd1d52cfd"
  }
 ],
 "metadata": {
  "kernelspec": {
   "display_name": "Python 3",
   "language": "python",
   "name": "python3"
  },
  "language_info": {
   "codemirror_mode": {
    "name": "ipython",
    "version": 2
   },
   "file_extension": ".py",
   "mimetype": "text/x-python",
   "name": "python",
   "nbconvert_exporter": "python",
   "pygments_lexer": "ipython2",
   "version": "2.7.6"
  }
 },
 "nbformat": 4,
 "nbformat_minor": 5
}
